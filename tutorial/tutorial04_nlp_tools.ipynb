{
 "cells": [
  {
   "cell_type": "markdown",
   "metadata": {},
   "source": [
    "# NLP Tools tutorial"
   ]
  },
  {
   "cell_type": "markdown",
   "metadata": {},
   "source": [
    "The **nlp_tools** subpackage offers classic NLP tools implemented as classes that will be used to preprocess an already cleaned text :\n",
    "- a **Phraser class** : to transform common multi-word expressions into single elements (*new york* becomes *new_york*)\n",
    "- a **Tokenizer class** : to split a sentence-like string into a list of sub-strings (tokens).\n",
    "- a **Stemming function** : to reduce a list of tokens to their word stems (roots of words).\n",
    "- an **Embedding class** : to represent of words in a lower dimensional vector space"
   ]
  },
  {
   "cell_type": "markdown",
   "metadata": {},
   "source": [
    "## The Phraser class"
   ]
  },
  {
   "cell_type": "markdown",
   "metadata": {},
   "source": [
    "The Phraser class transforms common multi-word expressions into single elements: for example *new york* becomes *new_york*."
   ]
  },
  {
   "cell_type": "markdown",
   "metadata": {},
   "source": [
    "The arguments of a Phraser object are:\n",
    "- **input_column :** the name of the column of the dataframe that will be used as input for the training of the Phraser.\n",
    "- **common_terms :** list of stopwords to be ignored. The default list is defined in the *conf.json* file.\n",
    "- **threshold :** threshold to select collocations.\n",
    "- **min_count :** minimum count of word to be selected as collocation."
   ]
  },
  {
   "cell_type": "code",
   "execution_count": 1,
   "metadata": {
    "ExecuteTime": {
     "end_time": "2019-09-03T13:16:56.104064Z",
     "start_time": "2019-09-03T13:16:54.128719Z"
    }
   },
   "outputs": [],
   "source": [
    "from melusine.nlp_tools.phraser import Phraser\n",
    "\n",
    "phraser = Phraser(input_column='clean_body',\n",
    "                  threshold=10,\n",
    "                  min_count=10)"
   ]
  },
  {
   "cell_type": "markdown",
   "metadata": {},
   "source": [
    "#### Training a phraser"
   ]
  },
  {
   "cell_type": "markdown",
   "metadata": {},
   "source": [
    "The input dataframe must contain a column with a clean text : **a sentence-like string with only lowcase letters and no accents**."
   ]
  },
  {
   "cell_type": "code",
   "execution_count": 2,
   "metadata": {
    "ExecuteTime": {
     "end_time": "2019-09-03T13:16:56.120731Z",
     "start_time": "2019-09-03T13:16:56.108665Z"
    }
   },
   "outputs": [],
   "source": [
    "import pandas as pd\n",
    "\n",
    "df_emails_clean = pd.read_csv('./data/emails_preprocessed.csv', encoding='utf-8', sep=';')\n",
    "df_emails_clean = df_emails_clean[['clean_body']]\n",
    "df_emails_clean = df_emails_clean.astype(str)"
   ]
  },
  {
   "cell_type": "code",
   "execution_count": 3,
   "metadata": {
    "ExecuteTime": {
     "end_time": "2019-09-03T13:16:56.190813Z",
     "start_time": "2019-09-03T13:16:56.150379Z"
    }
   },
   "outputs": [],
   "source": [
    "phraser.train(df_emails_clean)"
   ]
  },
  {
   "cell_type": "markdown",
   "metadata": {},
   "source": [
    "#### Saving a phraser"
   ]
  },
  {
   "cell_type": "code",
   "execution_count": 4,
   "metadata": {
    "ExecuteTime": {
     "end_time": "2019-09-03T13:16:56.205955Z",
     "start_time": "2019-09-03T13:16:56.192989Z"
    }
   },
   "outputs": [],
   "source": [
    "phraser.save('./data/phraser.pickle')"
   ]
  },
  {
   "cell_type": "markdown",
   "metadata": {},
   "source": [
    "#### Loading a phraser"
   ]
  },
  {
   "cell_type": "code",
   "execution_count": 5,
   "metadata": {
    "ExecuteTime": {
     "end_time": "2019-09-03T13:16:56.281543Z",
     "start_time": "2019-09-03T13:16:56.207874Z"
    }
   },
   "outputs": [],
   "source": [
    "phraser = Phraser().load('./data/phraser.pickle')"
   ]
  },
  {
   "cell_type": "markdown",
   "metadata": {},
   "source": [
    "#### Applying a phraser"
   ]
  },
  {
   "cell_type": "markdown",
   "metadata": {},
   "source": [
    "The main method of a Phraser object is its *train* method. To apply a specifi phraser it has to be passed as an argument to one of the following functions :\n",
    "- **phraser_on_body :** to apply the phraser on the *clean_body* column of a dataframe\n",
    "- **phraser_on_header :** to apply the phraser on the *clean_header* column of a dataframe\n",
    "\n",
    "The **phraser_on_body** and **phraser_on_header** functions are applied on rows of dataframes."
   ]
  },
  {
   "cell_type": "code",
   "execution_count": 6,
   "metadata": {
    "ExecuteTime": {
     "end_time": "2019-09-03T13:16:56.290187Z",
     "start_time": "2019-09-03T13:16:56.283286Z"
    }
   },
   "outputs": [
    {
     "data": {
      "text/plain": [
       "'je vous informe que la nouvelle immatriculation est enfin faite. je vous prie de trouver donc la carte grise ainsi que la nouvelle immatriculation. je vous demanderai de faire les changements necessaires concernant lassurance.'"
      ]
     },
     "execution_count": 6,
     "metadata": {},
     "output_type": "execute_result"
    }
   ],
   "source": [
    "from melusine.nlp_tools.phraser import phraser_on_body\n",
    "\n",
    "row = df_emails_clean.loc[1,:]\n",
    "\n",
    "phraser_on_body(row, phraser)"
   ]
  },
  {
   "cell_type": "markdown",
   "metadata": {},
   "source": [
    "Because the **phraser_on_body** and **phraser_on_header** functions are applied on rows of dataframes, they have to be passed as arguments of a **TransferScheduler object** in order to be applied on a whole dataframe."
   ]
  },
  {
   "cell_type": "code",
   "execution_count": 7,
   "metadata": {
    "ExecuteTime": {
     "end_time": "2019-09-03T13:16:56.300132Z",
     "start_time": "2019-09-03T13:16:56.292465Z"
    }
   },
   "outputs": [],
   "source": [
    "from melusine.utils.transformer_scheduler import TransformerScheduler\n",
    "\n",
    "PhraserTransformer = TransformerScheduler(\n",
    "    functions_scheduler=[\n",
    "        (phraser_on_body, (phraser,), ['clean_body'])\n",
    "    ]\n",
    ")"
   ]
  },
  {
   "cell_type": "code",
   "execution_count": 8,
   "metadata": {
    "ExecuteTime": {
     "end_time": "2019-09-03T13:16:56.325460Z",
     "start_time": "2019-09-03T13:16:56.306889Z"
    }
   },
   "outputs": [],
   "source": [
    "df_emails_clean = PhraserTransformer.fit_transform(df_emails_clean)"
   ]
  },
  {
   "cell_type": "markdown",
   "metadata": {},
   "source": [
    "## The Tokenizer class"
   ]
  },
  {
   "cell_type": "markdown",
   "metadata": {},
   "source": [
    "The Tokenizer class splits a sentence-like string into a list of sub-strings (tokens). "
   ]
  },
  {
   "cell_type": "markdown",
   "metadata": {},
   "source": [
    "The arguments of a Tokenizer object are :\n",
    "- **input_column :** the input text column to consider for the tokenizer.\n",
    "- **stopwords :** the list of words to remove from list of tokens. Default value, list defined in conf.json file.\n",
    "- **stop_removal :** True if stopwords to be removed, else False. Default value, False.\n",
    "- **n_jobs :** the number of cores used for computation. Default value, 20."
   ]
  },
  {
   "cell_type": "code",
   "execution_count": 9,
   "metadata": {
    "ExecuteTime": {
     "end_time": "2019-09-03T13:16:56.340793Z",
     "start_time": "2019-09-03T13:16:56.335017Z"
    }
   },
   "outputs": [],
   "source": [
    "from melusine.nlp_tools.tokenizer import Tokenizer\n",
    "\n",
    "tokenizer = Tokenizer (input_column='clean_body',\n",
    "                       stop_removal=True,\n",
    "                       n_jobs=20)"
   ]
  },
  {
   "cell_type": "markdown",
   "metadata": {},
   "source": [
    "#### Applying a Tokenizer"
   ]
  },
  {
   "cell_type": "markdown",
   "metadata": {},
   "source": [
    "Use the **fit_transform** method on a dataframe to create a new ***tokens* column**"
   ]
  },
  {
   "cell_type": "code",
   "execution_count": 10,
   "metadata": {
    "ExecuteTime": {
     "end_time": "2019-09-03T13:16:56.369279Z",
     "start_time": "2019-09-03T13:16:56.345282Z"
    }
   },
   "outputs": [],
   "source": [
    "df_emails_clean = tokenizer.fit_transform(df_emails_clean)"
   ]
  },
  {
   "cell_type": "code",
   "execution_count": 11,
   "metadata": {},
   "outputs": [
    {
     "data": {
      "text/plain": [
       "['client',\n",
       " 'chez',\n",
       " 'pouvez',\n",
       " 'etablir',\n",
       " 'devis',\n",
       " 'fils',\n",
       " 'souhaite',\n",
       " 'louer',\n",
       " 'lappartement',\n",
       " 'suivant',\n",
       " '25',\n",
       " 'rue',\n",
       " 'rueimaginaire',\n",
       " 'flag_cp_']"
      ]
     },
     "execution_count": 11,
     "metadata": {},
     "output_type": "execute_result"
    }
   ],
   "source": [
    "df_emails_clean.tokens[0]"
   ]
  },
  {
   "cell_type": "code",
   "execution_count": 12,
   "metadata": {
    "ExecuteTime": {
     "end_time": "2019-09-03T13:16:56.376455Z",
     "start_time": "2019-09-03T13:16:56.371533Z"
    }
   },
   "outputs": [
    {
     "data": {
      "text/plain": [
       "'je vous informe que la nouvelle immatriculation est enfin faite. je vous prie de trouver donc la carte grise ainsi que la nouvelle immatriculation. je vous demanderai de faire les changements necessaires concernant lassurance.'"
      ]
     },
     "execution_count": 12,
     "metadata": {},
     "output_type": "execute_result"
    }
   ],
   "source": [
    "df_emails_clean.clean_body[1]"
   ]
  },
  {
   "cell_type": "code",
   "execution_count": 13,
   "metadata": {
    "ExecuteTime": {
     "end_time": "2019-09-03T13:16:56.382607Z",
     "start_time": "2019-09-03T13:16:56.378519Z"
    }
   },
   "outputs": [
    {
     "data": {
      "text/plain": [
       "['informe',\n",
       " 'nouvelle',\n",
       " 'immatriculation',\n",
       " 'enfin',\n",
       " 'faite',\n",
       " 'prie',\n",
       " 'trouver',\n",
       " 'donc',\n",
       " 'carte',\n",
       " 'grise',\n",
       " 'ainsi',\n",
       " 'nouvelle',\n",
       " 'immatriculation',\n",
       " 'demanderai',\n",
       " 'faire',\n",
       " 'les',\n",
       " 'changements',\n",
       " 'necessaires',\n",
       " 'concernant',\n",
       " 'lassurance']"
      ]
     },
     "execution_count": 13,
     "metadata": {},
     "output_type": "execute_result"
    }
   ],
   "source": [
    "df_emails_clean.tokens[1]"
   ]
  },
  {
   "cell_type": "markdown",
   "metadata": {},
   "source": [
    "#### Saving a Tokenizer"
   ]
  },
  {
   "cell_type": "code",
   "execution_count": 14,
   "metadata": {
    "ExecuteTime": {
     "end_time": "2019-09-03T13:16:56.580240Z",
     "start_time": "2019-09-03T13:16:56.384169Z"
    }
   },
   "outputs": [],
   "source": [
    "import joblib\n",
    "_ = joblib.dump(tokenizer,\"./data/tokenizer.pickle\",compress=True)"
   ]
  },
  {
   "cell_type": "markdown",
   "metadata": {},
   "source": [
    "#### Loading a Tokenizer "
   ]
  },
  {
   "cell_type": "code",
   "execution_count": 15,
   "metadata": {
    "ExecuteTime": {
     "end_time": "2019-09-03T13:16:56.704821Z",
     "start_time": "2019-09-03T13:16:56.582517Z"
    }
   },
   "outputs": [],
   "source": [
    "tokenizer = joblib.load(\"./data/tokenizer.pickle\")"
   ]
  },
  {
   "cell_type": "markdown",
   "metadata": {},
   "source": [
    "## The Stemming function"
   ]
  },
  {
   "cell_type": "markdown",
   "metadata": {},
   "source": [
    "**stemming_tokens function** reduces a list of tokens to their word stems (roots of words)."
   ]
  },
  {
   "cell_type": "code",
   "execution_count": 16,
   "metadata": {},
   "outputs": [],
   "source": [
    "from melusine.nlp_tools.stemmer import stemming_tokens"
   ]
  },
  {
   "cell_type": "code",
   "execution_count": 17,
   "metadata": {},
   "outputs": [
    {
     "name": "stdout",
     "output_type": "stream",
     "text": [
      "Regular tokens:\n",
      "['contactes', 'car', 'projet', 'agrandir', 'maison', 'recu', 'devis', 'lequel', 'donne', 'suite', 'les', 'travaux', 'etant', 'encore', 'realises', 'projet', 'a', 'maintenant', 'ete', 'porte', 'a', 'terme', 'voudrais', 'donc', 'revoir', 'offre', 'si', 'possible', 'flag_name_', 'garder', 'meme', 'type', 'contrat']\n",
      "\n",
      "\n",
      "Stemmed tokens:\n",
      "['contact', 'car', 'projet', 'agrand', 'maison', 'recu', 'dev', 'lequel', 'don', 'suit', 'le', 'traval', 'etant', 'encor', 'realis', 'projet', 'a', 'mainten', 'ete', 'port', 'a', 'term', 'voudr', 'donc', 'revoir', 'offre', 'si', 'possibl', 'flag_name_', 'gard', 'mem', 'typ', 'contrat']\n"
     ]
    }
   ],
   "source": [
    "df_emails_with_stemmed_tokens = df_emails_clean.copy()\n",
    "print(\"Regular tokens:\")\n",
    "print(df_emails_with_stemmed_tokens.tokens[5])\n",
    "print('\\n')\n",
    "print(\"Stemmed tokens:\")\n",
    "print(stemming_tokens(df_emails_with_stemmed_tokens.iloc[5]))"
   ]
  },
  {
   "cell_type": "code",
   "execution_count": 18,
   "metadata": {},
   "outputs": [
    {
     "data": {
      "text/html": [
       "<div>\n",
       "<style scoped>\n",
       "    .dataframe tbody tr th:only-of-type {\n",
       "        vertical-align: middle;\n",
       "    }\n",
       "\n",
       "    .dataframe tbody tr th {\n",
       "        vertical-align: top;\n",
       "    }\n",
       "\n",
       "    .dataframe thead th {\n",
       "        text-align: right;\n",
       "    }\n",
       "</style>\n",
       "<table border=\"1\" class=\"dataframe\">\n",
       "  <thead>\n",
       "    <tr style=\"text-align: right;\">\n",
       "      <th></th>\n",
       "      <th>tokens</th>\n",
       "      <th>stemmed_tokens</th>\n",
       "    </tr>\n",
       "  </thead>\n",
       "  <tbody>\n",
       "    <tr>\n",
       "      <th>0</th>\n",
       "      <td>[client, chez, pouvez, etablir, devis, fils, s...</td>\n",
       "      <td>[client, chez, pouv, etabl, dev, fil, souhait,...</td>\n",
       "    </tr>\n",
       "    <tr>\n",
       "      <th>1</th>\n",
       "      <td>[informe, nouvelle, immatriculation, enfin, fa...</td>\n",
       "      <td>[inform, nouvel, immatricul, enfin, fait, pri,...</td>\n",
       "    </tr>\n",
       "    <tr>\n",
       "      <th>2</th>\n",
       "      <td>[suite, a, conversation, telephonique, flag_da...</td>\n",
       "      <td>[suit, a, convers, telephon, flag_date_, pourr...</td>\n",
       "    </tr>\n",
       "    <tr>\n",
       "      <th>3</th>\n",
       "      <td>[fais, suite, a, mail, envoye, bulletin, salai...</td>\n",
       "      <td>[fais, suit, a, mail, envoy, bulletin, salair,...</td>\n",
       "    </tr>\n",
       "    <tr>\n",
       "      <th>4</th>\n",
       "      <td>[voici, ci, joint, bulletin, salaire, comme, d...</td>\n",
       "      <td>[voic, ci, joint, bulletin, salair, comm, demand]</td>\n",
       "    </tr>\n",
       "    <tr>\n",
       "      <th>5</th>\n",
       "      <td>[contactes, car, projet, agrandir, maison, rec...</td>\n",
       "      <td>[contact, car, projet, agrand, maison, recu, d...</td>\n",
       "    </tr>\n",
       "    <tr>\n",
       "      <th>6</th>\n",
       "      <td>[emmenage, nouveau, studio, flag_date_, arrive...</td>\n",
       "      <td>[emmenag, nouveau, studio, flag_date_, arriv, ...</td>\n",
       "    </tr>\n",
       "    <tr>\n",
       "      <th>7</th>\n",
       "      <td>[permets, venir, vers, car, depuis, debut, lan...</td>\n",
       "      <td>[permet, ven, ver, car, depuis, debut, lanne, ...</td>\n",
       "    </tr>\n",
       "    <tr>\n",
       "      <th>8</th>\n",
       "      <td>[voici, copie, virement, effectuer, a, jour, s...</td>\n",
       "      <td>[voic, cop, vir, effectu, a, jour, serait-il, ...</td>\n",
       "    </tr>\n",
       "    <tr>\n",
       "      <th>9</th>\n",
       "      <td>[ci-joint, pret, vehicule]</td>\n",
       "      <td>[ci-joint, pret, vehicul]</td>\n",
       "    </tr>\n",
       "    <tr>\n",
       "      <th>10</th>\n",
       "      <td>[pouvez-vous, appeler, flag_date_, prochain, f...</td>\n",
       "      <td>[pouvez-vous, appel, flag_date_, prochain, fin...</td>\n",
       "    </tr>\n",
       "    <tr>\n",
       "      <th>11</th>\n",
       "      <td>[suite, a, entretien, telephonique, jour, join...</td>\n",
       "      <td>[suit, a, entretien, telephon, jour, join, num...</td>\n",
       "    </tr>\n",
       "    <tr>\n",
       "      <th>12</th>\n",
       "      <td>[serait-il, possible, rebasculer, vehicule, au...</td>\n",
       "      <td>[serait-il, possibl, rebascul, vehicul, aujour...</td>\n",
       "    </tr>\n",
       "    <tr>\n",
       "      <th>13</th>\n",
       "      <td>[]</td>\n",
       "      <td>[]</td>\n",
       "    </tr>\n",
       "    <tr>\n",
       "      <th>14</th>\n",
       "      <td>[bonjour, merci, retour, rapide, concernent, a...</td>\n",
       "      <td>[bonjour, merc, retour, rapid, concernent, att...</td>\n",
       "    </tr>\n",
       "    <tr>\n",
       "      <th>15</th>\n",
       "      <td>[remercie, attestation, demandee, telephone, r...</td>\n",
       "      <td>[remerc, attest, demande, telephon, rappel, pr...</td>\n",
       "    </tr>\n",
       "    <tr>\n",
       "      <th>16</th>\n",
       "      <td>[suite, a, entretien, telephonique, jour, join...</td>\n",
       "      <td>[suit, a, entretien, telephon, jour, join, sca...</td>\n",
       "    </tr>\n",
       "    <tr>\n",
       "      <th>17</th>\n",
       "      <td>[trouverez, ci-joint, certificat, cession, att...</td>\n",
       "      <td>[trouv, ci-joint, certificat, cession, attest,...</td>\n",
       "    </tr>\n",
       "    <tr>\n",
       "      <th>18</th>\n",
       "      <td>[trouverez, piece, jointe, releve, situation, ...</td>\n",
       "      <td>[trouv, piec, joint, relev, situat, ains, bull...</td>\n",
       "    </tr>\n",
       "    <tr>\n",
       "      <th>19</th>\n",
       "      <td>[flag_date_, a, flag_time_, utc, 2, flag_mail_...</td>\n",
       "      <td>[flag_date_, a, flag_time_, utc, 2, flag_mail_...</td>\n",
       "    </tr>\n",
       "    <tr>\n",
       "      <th>20</th>\n",
       "      <td>[permettez-moi, signaler, changement, adresse,...</td>\n",
       "      <td>[permettez-moi, signal, chang, adress, concern...</td>\n",
       "    </tr>\n",
       "    <tr>\n",
       "      <th>21</th>\n",
       "      <td>[pourriez, faire, suite, mail, suivant, date, ...</td>\n",
       "      <td>[pourr, fair, suit, mail, suiv, dat, flag_date_]</td>\n",
       "    </tr>\n",
       "    <tr>\n",
       "      <th>22</th>\n",
       "      <td>[numero, tel, flag_phone_, e-mail, flag_mail_,...</td>\n",
       "      <td>[numero, tel, flag_phone_, e-mail, flag_mail_,...</td>\n",
       "    </tr>\n",
       "    <tr>\n",
       "      <th>23</th>\n",
       "      <td>[veuillez, recevoir, certificat, cession, vehi...</td>\n",
       "      <td>[veuill, recevoir, certificat, cession, vehicu...</td>\n",
       "    </tr>\n",
       "    <tr>\n",
       "      <th>24</th>\n",
       "      <td>[02, chemin, imaginaire, flag_cp_, flag_mail_,...</td>\n",
       "      <td>[02, chemin, imaginair, flag_cp_, flag_mail_, ...</td>\n",
       "    </tr>\n",
       "    <tr>\n",
       "      <th>25</th>\n",
       "      <td>[bonjour, remercie, retour, pouvez, repondre, ...</td>\n",
       "      <td>[bonjour, remerc, retour, pouv, repondr, diffe...</td>\n",
       "    </tr>\n",
       "    <tr>\n",
       "      <th>26</th>\n",
       "      <td>[ci-joint, rib, compte, comme, demande]</td>\n",
       "      <td>[ci-joint, rib, compt, comm, demand]</td>\n",
       "    </tr>\n",
       "    <tr>\n",
       "      <th>27</th>\n",
       "      <td>[veuillez, trouver, ci-joint, ri, mme, dupont,...</td>\n",
       "      <td>[veuill, trouv, ci-joint, ri, mme, dupont, sou...</td>\n",
       "    </tr>\n",
       "    <tr>\n",
       "      <th>28</th>\n",
       "      <td>[suite, a, entretien, telephonique, veuillez, ...</td>\n",
       "      <td>[suit, a, entretien, telephon, veuill, trouv, ...</td>\n",
       "    </tr>\n",
       "    <tr>\n",
       "      <th>29</th>\n",
       "      <td>[souhaitons, declares, deux, sinistres, concer...</td>\n",
       "      <td>[souhaiton, declar, deux, sinistr, concern, de...</td>\n",
       "    </tr>\n",
       "    <tr>\n",
       "      <th>30</th>\n",
       "      <td>[]</td>\n",
       "      <td>[]</td>\n",
       "    </tr>\n",
       "    <tr>\n",
       "      <th>31</th>\n",
       "      <td>[flag_mail_]</td>\n",
       "      <td>[flag_mail_]</td>\n",
       "    </tr>\n",
       "    <tr>\n",
       "      <th>32</th>\n",
       "      <td>[adresse, dossier, pret, concernant, client, i...</td>\n",
       "      <td>[adress, dossi, pret, concern, client, informo...</td>\n",
       "    </tr>\n",
       "    <tr>\n",
       "      <th>33</th>\n",
       "      <td>[prie, trouver, ci-joint, declaration, sinistr...</td>\n",
       "      <td>[pri, trouv, ci-joint, declar, sinistr, relat,...</td>\n",
       "    </tr>\n",
       "    <tr>\n",
       "      <th>34</th>\n",
       "      <td>[prie, trouver, ci-joints, les, justificatifs,...</td>\n",
       "      <td>[pri, trouv, ci-joint, le, justif, demand, sou...</td>\n",
       "    </tr>\n",
       "    <tr>\n",
       "      <th>35</th>\n",
       "      <td>[]</td>\n",
       "      <td>[]</td>\n",
       "    </tr>\n",
       "    <tr>\n",
       "      <th>36</th>\n",
       "      <td>[apercois, jour, ete, prelevee, plusieurs, foi...</td>\n",
       "      <td>[apercois, jour, ete, preleve, plusieur, fois,...</td>\n",
       "    </tr>\n",
       "    <tr>\n",
       "      <th>37</th>\n",
       "      <td>[voici, ci-joins, les, documents, demandes, pr...</td>\n",
       "      <td>[voic, ci-join, le, docu, demand, precedent, r...</td>\n",
       "    </tr>\n",
       "    <tr>\n",
       "      <th>38</th>\n",
       "      <td>[centre, imaginaire, 00, rue, nomderue, flag_c...</td>\n",
       "      <td>[centr, imaginair, 00, ru, nomderu, flag_cp_, ...</td>\n",
       "    </tr>\n",
       "    <tr>\n",
       "      <th>39</th>\n",
       "      <td>[rejoignez-nous, page, facebook]</td>\n",
       "      <td>[rejoignez-nous, pag, facebook]</td>\n",
       "    </tr>\n",
       "  </tbody>\n",
       "</table>\n",
       "</div>"
      ],
      "text/plain": [
       "                                               tokens  \\\n",
       "0   [client, chez, pouvez, etablir, devis, fils, s...   \n",
       "1   [informe, nouvelle, immatriculation, enfin, fa...   \n",
       "2   [suite, a, conversation, telephonique, flag_da...   \n",
       "3   [fais, suite, a, mail, envoye, bulletin, salai...   \n",
       "4   [voici, ci, joint, bulletin, salaire, comme, d...   \n",
       "5   [contactes, car, projet, agrandir, maison, rec...   \n",
       "6   [emmenage, nouveau, studio, flag_date_, arrive...   \n",
       "7   [permets, venir, vers, car, depuis, debut, lan...   \n",
       "8   [voici, copie, virement, effectuer, a, jour, s...   \n",
       "9                          [ci-joint, pret, vehicule]   \n",
       "10  [pouvez-vous, appeler, flag_date_, prochain, f...   \n",
       "11  [suite, a, entretien, telephonique, jour, join...   \n",
       "12  [serait-il, possible, rebasculer, vehicule, au...   \n",
       "13                                                 []   \n",
       "14  [bonjour, merci, retour, rapide, concernent, a...   \n",
       "15  [remercie, attestation, demandee, telephone, r...   \n",
       "16  [suite, a, entretien, telephonique, jour, join...   \n",
       "17  [trouverez, ci-joint, certificat, cession, att...   \n",
       "18  [trouverez, piece, jointe, releve, situation, ...   \n",
       "19  [flag_date_, a, flag_time_, utc, 2, flag_mail_...   \n",
       "20  [permettez-moi, signaler, changement, adresse,...   \n",
       "21  [pourriez, faire, suite, mail, suivant, date, ...   \n",
       "22  [numero, tel, flag_phone_, e-mail, flag_mail_,...   \n",
       "23  [veuillez, recevoir, certificat, cession, vehi...   \n",
       "24  [02, chemin, imaginaire, flag_cp_, flag_mail_,...   \n",
       "25  [bonjour, remercie, retour, pouvez, repondre, ...   \n",
       "26            [ci-joint, rib, compte, comme, demande]   \n",
       "27  [veuillez, trouver, ci-joint, ri, mme, dupont,...   \n",
       "28  [suite, a, entretien, telephonique, veuillez, ...   \n",
       "29  [souhaitons, declares, deux, sinistres, concer...   \n",
       "30                                                 []   \n",
       "31                                       [flag_mail_]   \n",
       "32  [adresse, dossier, pret, concernant, client, i...   \n",
       "33  [prie, trouver, ci-joint, declaration, sinistr...   \n",
       "34  [prie, trouver, ci-joints, les, justificatifs,...   \n",
       "35                                                 []   \n",
       "36  [apercois, jour, ete, prelevee, plusieurs, foi...   \n",
       "37  [voici, ci-joins, les, documents, demandes, pr...   \n",
       "38  [centre, imaginaire, 00, rue, nomderue, flag_c...   \n",
       "39                   [rejoignez-nous, page, facebook]   \n",
       "\n",
       "                                       stemmed_tokens  \n",
       "0   [client, chez, pouv, etabl, dev, fil, souhait,...  \n",
       "1   [inform, nouvel, immatricul, enfin, fait, pri,...  \n",
       "2   [suit, a, convers, telephon, flag_date_, pourr...  \n",
       "3   [fais, suit, a, mail, envoy, bulletin, salair,...  \n",
       "4   [voic, ci, joint, bulletin, salair, comm, demand]  \n",
       "5   [contact, car, projet, agrand, maison, recu, d...  \n",
       "6   [emmenag, nouveau, studio, flag_date_, arriv, ...  \n",
       "7   [permet, ven, ver, car, depuis, debut, lanne, ...  \n",
       "8   [voic, cop, vir, effectu, a, jour, serait-il, ...  \n",
       "9                           [ci-joint, pret, vehicul]  \n",
       "10  [pouvez-vous, appel, flag_date_, prochain, fin...  \n",
       "11  [suit, a, entretien, telephon, jour, join, num...  \n",
       "12  [serait-il, possibl, rebascul, vehicul, aujour...  \n",
       "13                                                 []  \n",
       "14  [bonjour, merc, retour, rapid, concernent, att...  \n",
       "15  [remerc, attest, demande, telephon, rappel, pr...  \n",
       "16  [suit, a, entretien, telephon, jour, join, sca...  \n",
       "17  [trouv, ci-joint, certificat, cession, attest,...  \n",
       "18  [trouv, piec, joint, relev, situat, ains, bull...  \n",
       "19  [flag_date_, a, flag_time_, utc, 2, flag_mail_...  \n",
       "20  [permettez-moi, signal, chang, adress, concern...  \n",
       "21   [pourr, fair, suit, mail, suiv, dat, flag_date_]  \n",
       "22  [numero, tel, flag_phone_, e-mail, flag_mail_,...  \n",
       "23  [veuill, recevoir, certificat, cession, vehicu...  \n",
       "24  [02, chemin, imaginair, flag_cp_, flag_mail_, ...  \n",
       "25  [bonjour, remerc, retour, pouv, repondr, diffe...  \n",
       "26               [ci-joint, rib, compt, comm, demand]  \n",
       "27  [veuill, trouv, ci-joint, ri, mme, dupont, sou...  \n",
       "28  [suit, a, entretien, telephon, veuill, trouv, ...  \n",
       "29  [souhaiton, declar, deux, sinistr, concern, de...  \n",
       "30                                                 []  \n",
       "31                                       [flag_mail_]  \n",
       "32  [adress, dossi, pret, concern, client, informo...  \n",
       "33  [pri, trouv, ci-joint, declar, sinistr, relat,...  \n",
       "34  [pri, trouv, ci-joint, le, justif, demand, sou...  \n",
       "35                                                 []  \n",
       "36  [apercois, jour, ete, preleve, plusieur, fois,...  \n",
       "37  [voic, ci-join, le, docu, demand, precedent, r...  \n",
       "38  [centr, imaginair, 00, ru, nomderu, flag_cp_, ...  \n",
       "39                    [rejoignez-nous, pag, facebook]  "
      ]
     },
     "execution_count": 18,
     "metadata": {},
     "output_type": "execute_result"
    }
   ],
   "source": [
    "df_emails_with_stemmed_tokens['stemmed_tokens'] = df_emails_with_stemmed_tokens.apply(stemming_tokens, axis=1)\n",
    "df_emails_with_stemmed_tokens[['tokens','stemmed_tokens']]"
   ]
  },
  {
   "cell_type": "markdown",
   "metadata": {},
   "source": [
    "### Stemming transformer"
   ]
  },
  {
   "cell_type": "markdown",
   "metadata": {},
   "source": [
    "The **stemming_tokens** function can be wrapped in a TransformerScheduler object to be applied directly on a dataframe :"
   ]
  },
  {
   "cell_type": "code",
   "execution_count": 19,
   "metadata": {},
   "outputs": [],
   "source": [
    "Stemming = TransformerScheduler(\n",
    "    functions_scheduler=[\n",
    "        (stemming_tokens, None, ['stemmed_tokens'])\n",
    "    ]\n",
    ")"
   ]
  },
  {
   "cell_type": "code",
   "execution_count": 20,
   "metadata": {},
   "outputs": [
    {
     "data": {
      "text/plain": [
       "Index(['clean_body', 'tokens'], dtype='object')"
      ]
     },
     "execution_count": 20,
     "metadata": {},
     "output_type": "execute_result"
    }
   ],
   "source": [
    "df_emails_clean.columns"
   ]
  },
  {
   "cell_type": "code",
   "execution_count": 21,
   "metadata": {},
   "outputs": [],
   "source": [
    "df_emails_clean = Stemming.fit_transform(df_emails_clean)"
   ]
  },
  {
   "cell_type": "code",
   "execution_count": 22,
   "metadata": {},
   "outputs": [
    {
     "data": {
      "text/plain": [
       "Index(['clean_body', 'tokens', 'stemmed_tokens'], dtype='object')"
      ]
     },
     "execution_count": 22,
     "metadata": {},
     "output_type": "execute_result"
    }
   ],
   "source": [
    "df_emails_clean.columns"
   ]
  },
  {
   "cell_type": "markdown",
   "metadata": {},
   "source": [
    "## The Embedding class"
   ]
  },
  {
   "cell_type": "markdown",
   "metadata": {},
   "source": [
    "Word embeddings are abstract representations of words in a lower dimensional vector space. One of the advantages of word embeddings is thus to save computational cost. The Melusine Embedding class uses a **Word2Vec** model. The trained Embedding object will be used in the Models subpackage to train a Neural Network to classify emails."
   ]
  },
  {
   "cell_type": "markdown",
   "metadata": {},
   "source": [
    "The arguments of an Embedding object are :\n",
    "- **input_column :** the name of the column used as an input for the training.\n",
    "- **workers :** the number of cores used for computation. Default value, 40.\n",
    "- **seed :** seed for the embedding model,\n",
    "- **iter :** number of iterations for the training,\n",
    "- **size :** dimension of the embeddings\n",
    "- **window :** \n",
    "- **min_count :** minimum number of occurences for a word to be taken into account."
   ]
  },
  {
   "cell_type": "code",
   "execution_count": 23,
   "metadata": {
    "ExecuteTime": {
     "end_time": "2019-09-03T13:16:56.940504Z",
     "start_time": "2019-09-03T13:16:56.707282Z"
    }
   },
   "outputs": [],
   "source": [
    "from melusine.nlp_tools.embedding import Embedding\n",
    "\n",
    "embedding = Embedding(input_column='clean_body',\n",
    "                      vector_size=300,\n",
    "                      workers=4,\n",
    "                      min_count=3)"
   ]
  },
  {
   "cell_type": "markdown",
   "metadata": {},
   "source": [
    "#### Training embeddings"
   ]
  },
  {
   "cell_type": "code",
   "execution_count": 24,
   "metadata": {
    "ExecuteTime": {
     "end_time": "2019-09-03T13:16:56.983525Z",
     "start_time": "2019-09-03T13:16:56.942514Z"
    }
   },
   "outputs": [
    {
     "name": "stderr",
     "output_type": "stream",
     "text": [
      "20/05 04:25 - melusine.nlp_tools.embedding - INFO - Start training for embedding\n",
      "20/05 04:25 - melusine.nlp_tools.embedding - INFO - Done.\n"
     ]
    }
   ],
   "source": [
    "embedding.train(df_emails_clean)"
   ]
  },
  {
   "cell_type": "markdown",
   "metadata": {},
   "source": [
    "#### Saving embeddings"
   ]
  },
  {
   "cell_type": "code",
   "execution_count": 25,
   "metadata": {
    "ExecuteTime": {
     "end_time": "2019-09-03T13:16:56.989814Z",
     "start_time": "2019-09-03T13:16:56.985064Z"
    }
   },
   "outputs": [],
   "source": [
    "embedding.save('./data/embedding.pickle')"
   ]
  },
  {
   "cell_type": "markdown",
   "metadata": {},
   "source": [
    "#### Loading embeddings"
   ]
  },
  {
   "cell_type": "code",
   "execution_count": 26,
   "metadata": {
    "ExecuteTime": {
     "end_time": "2019-09-03T13:16:57.053209Z",
     "start_time": "2019-09-03T13:16:56.992001Z"
    }
   },
   "outputs": [],
   "source": [
    "embedding = Embedding().load('./data/embedding.pickle')"
   ]
  },
  {
   "cell_type": "markdown",
   "metadata": {},
   "source": [
    "### Different types of embeddings"
   ]
  },
  {
   "cell_type": "markdown",
   "metadata": {},
   "source": [
    "The types of embedding available in the **Embedding** class are:\n",
    "- `lsa_docterm` : Apply a Singular Value Decomposition (SVD) on the DocTerm matrix\n",
    "- `lsa_tfidf` : Apply a Singular Value Decomposition (SVD) on the TfIdf matrix\n",
    "- `word2vec_sg` : Train a Word2Vec model using the Skip-Gram method (Warning : time consuming!)\n",
    "- `word2vec_ns` : Train a Word2Vec model using the Negative-Sampling method\n",
    "- `word2vec_cbow` : Train a Word2Vec model using the Continuous Bag-Of-Words method."
   ]
  },
  {
   "cell_type": "code",
   "execution_count": 27,
   "metadata": {
    "ExecuteTime": {
     "end_time": "2019-09-03T13:16:57.153164Z",
     "start_time": "2019-09-03T13:16:57.055444Z"
    }
   },
   "outputs": [
    {
     "name": "stderr",
     "output_type": "stream",
     "text": [
      "20/05 04:25 - melusine.nlp_tools.embedding - INFO - Start training for embedding\n",
      "20/05 04:25 - melusine.nlp_tools.embedding - INFO - Start training for embedding\n",
      "20/05 04:25 - melusine.nlp_tools.embedding - INFO - Start training for embedding\n",
      "20/05 04:25 - melusine.nlp_tools.embedding - INFO - Done.\n",
      "20/05 04:25 - melusine.nlp_tools.embedding - INFO - Done.\n",
      "20/05 04:25 - melusine.nlp_tools.embedding - INFO - Done.\n"
     ]
    }
   ],
   "source": [
    "embedding = Embedding(input_column='clean_body',\n",
    "                      vector_size=300,\n",
    "                      min_count=3,\n",
    "                      method = 'lsa_tfidf'\n",
    "                     )\n",
    "embedding.train(df_emails_clean)"
   ]
  },
  {
   "cell_type": "markdown",
   "metadata": {
    "ExecuteTime": {
     "end_time": "2019-09-03T09:48:50.221008Z",
     "start_time": "2019-09-03T09:48:50.217998Z"
    }
   },
   "source": [
    "### Specify a tokens column instead of a text column"
   ]
  },
  {
   "cell_type": "markdown",
   "metadata": {},
   "source": [
    "There are two ways to provide the text input to the **Embedding** class:\n",
    "- `input_column` : Provide a raw text column.  The embedding class will tokenize it and create a tokens generator.  The tokens generator will be used to generate tokens as input for training the model\n",
    "- `tokens_column` : Provide a column containing list of tokens.   The embedding class will use a list of list of tokens to train the embedding model "
   ]
  },
  {
   "cell_type": "code",
   "execution_count": 28,
   "metadata": {
    "ExecuteTime": {
     "end_time": "2019-09-03T13:16:57.345160Z",
     "start_time": "2019-09-03T13:16:57.154564Z"
    }
   },
   "outputs": [
    {
     "name": "stderr",
     "output_type": "stream",
     "text": [
      "20/05 04:25 - melusine.nlp_tools.embedding - INFO - Start training for embedding\n",
      "20/05 04:25 - melusine.nlp_tools.embedding - INFO - Start training for embedding\n",
      "20/05 04:25 - melusine.nlp_tools.embedding - INFO - Start training for embedding\n",
      "20/05 04:25 - melusine.nlp_tools.embedding - INFO - Start training for embedding\n",
      "20/05 04:25 - melusine.nlp_tools.embedding - INFO - Done.\n",
      "20/05 04:25 - melusine.nlp_tools.embedding - INFO - Done.\n",
      "20/05 04:25 - melusine.nlp_tools.embedding - INFO - Done.\n",
      "20/05 04:25 - melusine.nlp_tools.embedding - INFO - Done.\n"
     ]
    }
   ],
   "source": [
    "embedding = Embedding(tokens_column='tokens',\n",
    "                      vector_size=300,\n",
    "                      min_count=3,\n",
    "                     )\n",
    "embedding.train(df_emails_clean)"
   ]
  },
  {
   "cell_type": "code",
   "execution_count": null,
   "metadata": {},
   "outputs": [],
   "source": []
  }
 ],
 "metadata": {
  "kernelspec": {
   "display_name": "testing2",
   "language": "python",
   "name": "testing2"
  },
  "language_info": {
   "codemirror_mode": {
    "name": "ipython",
    "version": 3
   },
   "file_extension": ".py",
   "mimetype": "text/x-python",
   "name": "python",
   "nbconvert_exporter": "python",
   "pygments_lexer": "ipython3",
   "version": "3.6.13"
  },
  "toc": {
   "base_numbering": 1,
   "nav_menu": {},
   "number_sections": true,
   "sideBar": true,
   "skip_h1_title": false,
   "title_cell": "Table of Contents",
   "title_sidebar": "Contents",
   "toc_cell": false,
   "toc_position": {},
   "toc_section_display": true,
   "toc_window_display": false
  },
  "varInspector": {
   "cols": {
    "lenName": 16,
    "lenType": 16,
    "lenVar": 40
   },
   "kernels_config": {
    "python": {
     "delete_cmd_postfix": "",
     "delete_cmd_prefix": "del ",
     "library": "var_list.py",
     "varRefreshCmd": "print(var_dic_list())"
    },
    "r": {
     "delete_cmd_postfix": ") ",
     "delete_cmd_prefix": "rm(",
     "library": "var_list.r",
     "varRefreshCmd": "cat(var_dic_list()) "
    }
   },
   "types_to_exclude": [
    "module",
    "function",
    "builtin_function_or_method",
    "instance",
    "_Feature"
   ],
   "window_display": false
  }
 },
 "nbformat": 4,
 "nbformat_minor": 2
}
